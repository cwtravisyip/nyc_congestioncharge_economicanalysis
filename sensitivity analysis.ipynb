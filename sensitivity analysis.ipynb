{
 "cells": [
  {
   "cell_type": "markdown",
   "metadata": {},
   "source": [
    "# Sensitivity analysis"
   ]
  },
  {
   "cell_type": "code",
   "execution_count": 1,
   "metadata": {},
   "outputs": [],
   "source": [
    "import pandas as pd \n",
    "import numpy as np\n",
    "import seaborn as sns \n",
    "import matplotlib.pyplot as plt \n",
    "\n",
    "# setting the style\n",
    "plt.style.use('seaborn-whitegrid')\n",
    "\n",
    "# setting the annotation default font \n",
    "plt.rcParams[\"font.family\"] = \"roboto\"\n",
    "plt.rcParams[\"font.size\"] = 10\n",
    "\n",
    "plt.rcParams[\"figure.autolayout\"] = False\n",
    "\n",
    "\n",
    "plt.rcParams['axes.spines.right'] = False\n",
    "plt.rcParams['axes.spines.top'] = False\n",
    "plt.rcParams['axes.spines.left'] = False\n",
    "plt.rcParams['axes.spines.bottom'] = False\n",
    "\n",
    "from custom_func import run_cba"
   ]
  },
  {
   "cell_type": "markdown",
   "metadata": {},
   "source": [
    "### Defining the parameters\n",
    "The methodology of the cost-benefit analysis is informed by the following works:\n",
    "\n",
    "* Raux, C., Souche, S., & Pons, D. (2012). The efficiency of congestion charging: Some lessons from cost-benefit analyses. Research in Transportation Economics, 36 (1), pp.85-92. doi:10.1016/j.retrec.2012.03.006\n",
    "* Danna, S., Mori, K., Vela, J., & Michelle, W. (2012). A benefit-cost analysis of road pricing in downtown Seattle.  Evans School Review, 2 (1), pp. 26-46. https://web.archive.org/web/20170811213013id_/https://depts.washington.edu/esreview/wordpress/wp-content/uploads/2012/12/ESR-2012-A-Benefit-Cost-Analysis-of-Road-Pricing-in-Downtown-Seattle.pdf\n",
    "\n",
    "Based on their methodology, the parameters are defined:\n",
    "* Discount rate: 5%\n",
    "* Price elasticity of traffic volume: 0.5\n",
    "* Travel time elasticity to traffic volume: 0.1471\n",
    "* Traffic accident elasticity to traffic volume: 0.1513\n",
    "\n",
    "The following benefits are identified:\n",
    "* Time saving\n",
    "* Pollution reduction\n",
    "* Reliability benefits\n",
    "* Reduction in traffic accident\n",
    "\n",
    "The following costs are identified:\n",
    "* Operational cost\n",
    "* Investment cost\n",
    "* Public transit subsidy\n"
   ]
  },
  {
   "cell_type": "markdown",
   "metadata": {},
   "source": [
    "### Baseline Cost-Benefit Analysis"
   ]
  },
  {
   "cell_type": "markdown",
   "metadata": {},
   "source": [
    "#### Percentage reduction in journey time\n",
    "$\\quad \\epsilon_{t,p} \\times \\frac{Congestion\\, Charge}{Cost\\, of\\, Driving} $\n",
    "\n",
    "$= 0.5 \\times \\frac{14}{17.8\\times 1.55} $\n",
    "\n",
    "$= 0.2537$\n",
    "\n"
   ]
  },
  {
   "cell_type": "markdown",
   "metadata": {},
   "source": [
    "#### Reduction in journey time\n",
    "$\\quad \\epsilon_{ts,tvol} \\times \\Delta \\%traffic \\times time\\, cost $\n",
    "\n",
    "$= 0.1471 \\times 0.2537 \\times 817\\textrm{million} $\n",
    "\n",
    "$= 304 \\textrm{million per year} $\n",
    "\n",
    "#### Reduction in time budget\n",
    "$time\\,cost =1434000\\times 260 \\times \\frac{40}{60} \\times 32.86=\\textrm{8 billion}$\n",
    "\n",
    "\n",
    "\n",
    "$\\quad \\frac{1}{3} \\times 304 \\textrm{million per year} $\n",
    "\n",
    "$= 102 \\textrm{million per year} $"
   ]
  },
  {
   "cell_type": "markdown",
   "metadata": {},
   "source": [
    "#### Reduction in pollution\n",
    "##### CO_2\n",
    "\n",
    "$\\quad Emission\\,per\\,mile^{[1]} \\times Reduction\\, in\\,Milelage\\times Cost^{[2]}$\n",
    "\n",
    "$ = 0.411 \\times \\textrm{102 million}\\times 0.033 $\n",
    "\n",
    "$= \\textrm{23 million per year}$\n",
    "\n",
    "\n",
    "#### NO_x\n",
    "$\\quad Emission\\,per\\,mile^{[3]} \\times Reduction\\, in\\,Milelage\\times Cost^{}[2] $\n",
    "\n",
    "$=0.00007 \\times   \\textrm{102 million}\\times 0.081 $\n",
    "\n",
    "$= \\textrm{0.01 million per year} $\n"
   ]
  },
  {
   "cell_type": "markdown",
   "metadata": {},
   "source": [
    "#### Accidents\n",
    "$\\quad\\epsilon_{ta,tvol} \\times \\Delta \\%traffic \\times cost $\n",
    "\n",
    "$= 0.1513 \\times 0.2537 \\times \\textrm{4290 million}$\n",
    "\n",
    "$= \\textrm{164 million per year}$"
   ]
  },
  {
   "cell_type": "markdown",
   "metadata": {},
   "source": [
    "#### Operational cost\n",
    "\n",
    "$\\quad \\textrm{38.9 million}^{[1]} \\times 1.24^{[2]} \\times 3.998^{[3]}$\n",
    "\n",
    "$=\\textrm{193 million per year}$\n",
    "\n",
    "\n",
    "#### Investment Cost\n",
    "$\\quad  \\textrm{200 million}^{[1]} \\times1.32^{[2]}\\times 1.619^{[3]}$\n",
    "\n",
    "$=\\textrm{427 million}$"
   ]
  },
  {
   "cell_type": "markdown",
   "metadata": {},
   "source": [
    "#### Public transit subsity\n",
    "##### Current Coverage Rate\n",
    "$\\quad \\frac{263,635}{753,406}\\times 100\\%$\n",
    "\n",
    "$=35.125\\%$"
   ]
  },
  {
   "cell_type": "markdown",
   "metadata": {},
   "source": [
    "### Total Cost of Public Transit Subsidy\n",
    "$\\quad \\textrm{48.9 million}^{[1]}\\times \\frac{50\\%}{35.125\\%}$\n",
    "\n",
    "$=\\textrm{95 million}$"
   ]
  },
  {
   "cell_type": "code",
   "execution_count": 2,
   "metadata": {},
   "outputs": [],
   "source": [
    "def run_cba(dis_rate = 0.05, charge = 14, elas = 0.5,avg_dis=17.8,cost_drive = 1.55, time_cost =32.86):\n",
    "    \"\"\"\n",
    "    conduct cost-benefit analysis.\n",
    "    The function return all the identified cost and benefits in a dictionary\n",
    "    \"\"\"\n",
    "    # determine the percentage change in traffic flow with respect to price\n",
    "    delta_traffic = elas *charge/(avg_dis*cost_drive) # percentage change in traffic volume default set as 0.5*14/(17.8 * 1.55) =0.2537\n",
    "    delta_mil = delta_traffic * 717000 * 2 * 17.8 *260 # annual change in the aggregate mileage\n",
    "\n",
    "    # determine the common ratio for perpetual calculation (discount rate)\n",
    "    cm = 1/(1+dis_rate)\n",
    "    \n",
    "    # determine the annual cost and benefit in million\n",
    "    B_timesaving  = (0.1471 * delta_traffic) * (717000* 260*2) *(40/60)*time_cost  /1000000\n",
    "    B_reliability = B_timesaving /3\n",
    "    #CO2\n",
    "    co2 =  0.411* delta_mil * 0.033 / 1000000\n",
    "    #NOx\n",
    "    nox =   0.00007 *delta_mil * 0.081 / 1000000\n",
    "    B_pollution   = (co2 + nox) \n",
    "\n",
    "    # accident\n",
    "    B_accident    = delta_traffic * 0.1513 * 4290\n",
    "\n",
    "    # cost\n",
    "    C_operational = 38.9*1.24*3.998 \n",
    "    C_subsidy     = 95\n",
    "    # upfront investment\n",
    "    C_investment  = 200*1.32*1.619 \n",
    "\n",
    "    # aggregate npv of benefit and cost\n",
    "    agg_ben = (B_timesaving + B_reliability + B_pollution + B_accident) /  (1-cm)\n",
    "    agg_cos = (C_operational + C_subsidy) / (1-cm) +C_investment\n",
    "    BRC = agg_ben / agg_cos\n",
    "    BRC_dummy = BRC >= 1\n",
    "\n",
    "    dict = {    'Discount Rate':dis_rate,\n",
    "                'Charge':charge,\n",
    "                'Elasticity':elas,\n",
    "                'B_timesaving':B_timesaving,\n",
    "                'B_reliability':B_reliability,\n",
    "                'B_pollution':B_pollution,\n",
    "                'B_accident':B_accident,\n",
    "                'C_operational':C_operational,\n",
    "                'C_investment':C_investment,\n",
    "                'C_subsidy': C_subsidy,\n",
    "                'Benefit-Cost Ratio':BRC,\n",
    "                'Benefit-Cost Ratio - Dummy':BRC_dummy}\n",
    "    #list =  [[dis_rate,charge,elas,B_timesaving,B_reliability,B_pollution,B_accident,C_operational,C_investment,C_subsidy, BRC]]\n",
    "    \n",
    "    return dict\n",
    "                "
   ]
  },
  {
   "cell_type": "code",
   "execution_count": 3,
   "metadata": {},
   "outputs": [
    {
     "data": {
      "text/html": [
       "<div>\n",
       "<style scoped>\n",
       "    .dataframe tbody tr th:only-of-type {\n",
       "        vertical-align: middle;\n",
       "    }\n",
       "\n",
       "    .dataframe tbody tr th {\n",
       "        vertical-align: top;\n",
       "    }\n",
       "\n",
       "    .dataframe thead th {\n",
       "        text-align: right;\n",
       "    }\n",
       "</style>\n",
       "<table border=\"1\" class=\"dataframe\">\n",
       "  <thead>\n",
       "    <tr style=\"text-align: right;\">\n",
       "      <th></th>\n",
       "      <th>Discount Rate</th>\n",
       "      <th>Charge</th>\n",
       "      <th>Elasticity</th>\n",
       "      <th>B_timesaving</th>\n",
       "      <th>B_reliability</th>\n",
       "      <th>B_pollution</th>\n",
       "      <th>B_accident</th>\n",
       "      <th>C_operational</th>\n",
       "      <th>C_investment</th>\n",
       "      <th>C_subsidy</th>\n",
       "      <th>Benefit-Cost Ratio</th>\n",
       "      <th>Benefit-Cost Ratio - Dummy</th>\n",
       "    </tr>\n",
       "  </thead>\n",
       "  <tbody>\n",
       "    <tr>\n",
       "      <th>0</th>\n",
       "      <td>0.02</td>\n",
       "      <td>14</td>\n",
       "      <td>0.20</td>\n",
       "      <td>121.932030</td>\n",
       "      <td>40.644010</td>\n",
       "      <td>9.138736</td>\n",
       "      <td>65.872258</td>\n",
       "      <td>192.847528</td>\n",
       "      <td>427.416</td>\n",
       "      <td>95</td>\n",
       "      <td>0.802040</td>\n",
       "      <td>0.0</td>\n",
       "    </tr>\n",
       "    <tr>\n",
       "      <th>1</th>\n",
       "      <td>0.02</td>\n",
       "      <td>14</td>\n",
       "      <td>0.21</td>\n",
       "      <td>128.028631</td>\n",
       "      <td>42.676210</td>\n",
       "      <td>9.595672</td>\n",
       "      <td>69.165871</td>\n",
       "      <td>192.847528</td>\n",
       "      <td>427.416</td>\n",
       "      <td>95</td>\n",
       "      <td>0.842142</td>\n",
       "      <td>0.0</td>\n",
       "    </tr>\n",
       "    <tr>\n",
       "      <th>2</th>\n",
       "      <td>0.02</td>\n",
       "      <td>14</td>\n",
       "      <td>0.22</td>\n",
       "      <td>134.125233</td>\n",
       "      <td>44.708411</td>\n",
       "      <td>10.052609</td>\n",
       "      <td>72.459484</td>\n",
       "      <td>192.847528</td>\n",
       "      <td>427.416</td>\n",
       "      <td>95</td>\n",
       "      <td>0.882245</td>\n",
       "      <td>0.0</td>\n",
       "    </tr>\n",
       "    <tr>\n",
       "      <th>3</th>\n",
       "      <td>0.02</td>\n",
       "      <td>14</td>\n",
       "      <td>0.23</td>\n",
       "      <td>140.221834</td>\n",
       "      <td>46.740611</td>\n",
       "      <td>10.509546</td>\n",
       "      <td>75.753097</td>\n",
       "      <td>192.847528</td>\n",
       "      <td>427.416</td>\n",
       "      <td>95</td>\n",
       "      <td>0.922347</td>\n",
       "      <td>0.0</td>\n",
       "    </tr>\n",
       "    <tr>\n",
       "      <th>4</th>\n",
       "      <td>0.02</td>\n",
       "      <td>14</td>\n",
       "      <td>0.24</td>\n",
       "      <td>146.318436</td>\n",
       "      <td>48.772812</td>\n",
       "      <td>10.966483</td>\n",
       "      <td>79.046710</td>\n",
       "      <td>192.847528</td>\n",
       "      <td>427.416</td>\n",
       "      <td>95</td>\n",
       "      <td>0.962449</td>\n",
       "      <td>0.0</td>\n",
       "    </tr>\n",
       "  </tbody>\n",
       "</table>\n",
       "</div>"
      ],
      "text/plain": [
       "   Discount Rate Charge  Elasticity  B_timesaving  B_reliability  B_pollution  \\\n",
       "0           0.02     14        0.20    121.932030      40.644010     9.138736   \n",
       "1           0.02     14        0.21    128.028631      42.676210     9.595672   \n",
       "2           0.02     14        0.22    134.125233      44.708411    10.052609   \n",
       "3           0.02     14        0.23    140.221834      46.740611    10.509546   \n",
       "4           0.02     14        0.24    146.318436      48.772812    10.966483   \n",
       "\n",
       "   B_accident  C_operational  C_investment C_subsidy  Benefit-Cost Ratio  \\\n",
       "0   65.872258     192.847528       427.416        95            0.802040   \n",
       "1   69.165871     192.847528       427.416        95            0.842142   \n",
       "2   72.459484     192.847528       427.416        95            0.882245   \n",
       "3   75.753097     192.847528       427.416        95            0.922347   \n",
       "4   79.046710     192.847528       427.416        95            0.962449   \n",
       "\n",
       "   Benefit-Cost Ratio - Dummy  \n",
       "0                         0.0  \n",
       "1                         0.0  \n",
       "2                         0.0  \n",
       "3                         0.0  \n",
       "4                         0.0  "
      ]
     },
     "execution_count": 3,
     "metadata": {},
     "output_type": "execute_result"
    }
   ],
   "source": [
    "dis_rate    = [x for x in np.arange(0.02,0.15,0.002)]\n",
    "charges     = [x for x in np.arange(9,23,0.5)]\n",
    "elases      = [x for x in np.arange(0.2,0.3,0.01)]\n",
    "\n",
    "col =[  'Discount Rate', 'Charge','Elasticity','B_timesaving','B_reliability','B_pollution','B_accident',\n",
    "        'C_operational', 'C_investment','C_subsidy','Benefit-Cost Ratio']\n",
    "df = pd.DataFrame(columns = col)\n",
    "for dis in dis_rate:\n",
    "    #for charge in charges:\n",
    "    for elas in elases:\n",
    "            data = run_cba(dis_rate = dis, charge = 14, elas = elas)\n",
    "            df = df.append(data, ignore_index = True)\n",
    "\n",
    "df.head()"
   ]
  },
  {
   "cell_type": "code",
   "execution_count": 4,
   "metadata": {},
   "outputs": [],
   "source": [
    "# Elasticity\n",
    "y = np.linspace(0.2,0.3,100)\n",
    "\n",
    "dt = y * 14 / (17.8*1.55)  # delta traffic\n",
    "dm = dt * 717000 * 2 * 17.8 * 260\n",
    "\n",
    "b1= 0.1471 * dt * (717000*260*2)  *(40/60)*32.86 /1000000 * 4/3 # time saving and reliability\n",
    "b2= 0.411 * dm * 0.033 / 1000000 + 0.00007 * dm *  0.081 / 1000000\n",
    "b3= dt * (0.1513 * 4290)\n",
    "b = b1+ b2 + b3\n",
    "\n",
    "c = (38.9*1.24*3.998) + 95\n",
    "cin = 200*1.32*1.619\n",
    "\n",
    "# zero-welfare discount rate\n",
    "x = -(1/ (((b- c)/cin)-1)  )-1\n"
   ]
  },
  {
   "cell_type": "markdown",
   "metadata": {},
   "source": [
    "Vairable of interest:\n",
    "* discount rate\n",
    "* Benefit-cost Ratio\n",
    "* Charge\n",
    "* Elasticity"
   ]
  },
  {
   "cell_type": "markdown",
   "metadata": {},
   "source": [
    "## Sensitivity Analysis "
   ]
  },
  {
   "cell_type": "code",
   "execution_count": 5,
   "metadata": {},
   "outputs": [
    {
     "data": {
      "image/png": "[encoded data removed]",
      "text/plain": [
       "<Figure size 360x360 with 1 Axes>"
      ]
     },
     "metadata": {
      "needs_background": "light"
     },
     "output_type": "display_data"
    }
   ],
   "source": [
    "# plot the sensitivity analysis\n",
    "fig, ax = plt.subplots(figsize = (5,5))\n",
    "fig.patch.set_alpha(0)\n",
    "\n",
    "p1 = sns.scatterplot(x = \"Discount Rate\",y='Elasticity',hue = 'Benefit-Cost Ratio - Dummy', data = df, linewidth = 0, ax = ax, size = 1)\n",
    "\n",
    "#ax.set_xlim(0.015,0.15)\n",
    "#ax.set_ylim(0.20,0.3)"
   ]
  },
  {
   "cell_type": "code",
   "execution_count": 7,
   "metadata": {},
   "outputs": [
    {
     "name": "stderr",
     "output_type": "stream",
     "text": [
      "/Users/Tra_FIT/opt/anaconda3/lib/python3.8/site-packages/seaborn/_decorators.py:36: FutureWarning: Pass the following variables as keyword args: x, y. From version 0.12, the only valid positional argument will be `data`, and passing other arguments without an explicit keyword will result in an error or misinterpretation.\n",
      "  warnings.warn(\n"
     ]
    },
    {
     "ename": "AttributeError",
     "evalue": "'AxesSubplot' object has no attribute 'savefig'",
     "output_type": "error",
     "traceback": [
      "\u001b[0;31m---------------------------------------------------------------------------\u001b[0m",
      "\u001b[0;31mAttributeError\u001b[0m                            Traceback (most recent call last)",
      "\u001b[0;32m<ipython-input-7-14ac97e578e1>\u001b[0m in \u001b[0;36m<module>\u001b[0;34m\u001b[0m\n\u001b[1;32m     11\u001b[0m \u001b[0max\u001b[0m\u001b[0;34m.\u001b[0m\u001b[0mset_xlim\u001b[0m\u001b[0;34m(\u001b[0m\u001b[0;36m0\u001b[0m\u001b[0;34m,\u001b[0m\u001b[0;36m0.15\u001b[0m\u001b[0;34m)\u001b[0m\u001b[0;34m\u001b[0m\u001b[0;34m\u001b[0m\u001b[0m\n\u001b[1;32m     12\u001b[0m \u001b[0max\u001b[0m\u001b[0;34m.\u001b[0m\u001b[0mset_ylim\u001b[0m\u001b[0;34m(\u001b[0m\u001b[0;36m0.19\u001b[0m\u001b[0;34m,\u001b[0m\u001b[0;36m0.56\u001b[0m\u001b[0;34m)\u001b[0m\u001b[0;34m\u001b[0m\u001b[0;34m\u001b[0m\u001b[0m\n\u001b[0;32m---> 13\u001b[0;31m \u001b[0max\u001b[0m\u001b[0;34m.\u001b[0m\u001b[0msavefig\u001b[0m\u001b[0;34m(\u001b[0m\u001b[0;34m'line_of_zeroNPV.jpg'\u001b[0m\u001b[0;34m,\u001b[0m \u001b[0mdpi\u001b[0m \u001b[0;34m=\u001b[0m \u001b[0;36m150\u001b[0m\u001b[0;34m,\u001b[0m \u001b[0mbbox_to_inches\u001b[0m \u001b[0;34m=\u001b[0m \u001b[0;34m'tight'\u001b[0m\u001b[0;34m)\u001b[0m\u001b[0;34m\u001b[0m\u001b[0;34m\u001b[0m\u001b[0m\n\u001b[0m",
      "\u001b[0;31mAttributeError\u001b[0m: 'AxesSubplot' object has no attribute 'savefig'"
     ]
    },
    {
     "data": {
      "image/png": "[encoded data removed]",
      "text/plain": [
       "<Figure size 360x360 with 1 Axes>"
      ]
     },
     "metadata": {
      "needs_background": "light"
     },
     "output_type": "display_data"
    }
   ],
   "source": [
    "# plot the sensitivity analysis\n",
    "fig, ax = plt.subplots(figsize = (5,5))\n",
    "fig.patch.set_alpha(0)\n",
    "\n",
    "p2 = sns.lineplot(x,y,color = '#cf1248')\n",
    "ax.scatter(0.05, 0.5 ,color = \"#b8ca7d\") # baseline scenario\n",
    "ax.text(0.055, 0.5 ,'Baseline value', color = \"#b8ca7d\")\n",
    "ax.set_title('Line of Zero NPV')\n",
    "ax.set_xlabel('Discount Rate')\n",
    "ax.set_ylabel('Elasticity')\n",
    "ax.set_xlim(0,0.15)\n",
    "ax.set_ylim(0.19,0.56)\n",
    "ax.savefig('line_of_zeroNPV.jpg', dpi = 150, bbox_to_inches = 'tight')"
   ]
  },
  {
   "cell_type": "code",
   "execution_count": 8,
   "metadata": {},
   "outputs": [
    {
     "data": {
      "image/png": "[encoded data removed]",
      "text/plain": [
       "<Figure size 720x360 with 1 Axes>"
      ]
     },
     "metadata": {
      "needs_background": "light"
     },
     "output_type": "display_data"
    }
   ],
   "source": [
    "df_dr = pd.DataFrame(columns = col)\n",
    "n = 0 \n",
    "for x in np.arange(0.02,0.09,0.01):\n",
    "    data = run_cba(dis_rate = x)\n",
    "    df_dr = df_dr.append(data, ignore_index = True)\n",
    "\n",
    "fig, ax = plt.subplots(figsize = (10,5))\n",
    "fig.patch.set_alpha(0)\n",
    "\n",
    "x = ['2%','3%','4%','5%','6%','7%','8%']\n",
    "ax.bar(x,df_dr['Benefit-Cost Ratio'],width = 0.5, color = \"#b8ca7d\")\n",
    "\n",
    "\n",
    "#ax.set_xlim(0.015,0.08)\n",
    "ax.set_ylim(0.8,2.1)\n",
    "ax.set_title(\"Sensitivity Analysis - Discount Rate\")\n",
    "ax.set_ylabel(\"Benefit-Cost Ratio\")\n",
    "ax.set_xlabel(\"Discount Rate\")\n",
    "ax.xaxis.grid(False)\n",
    "\n",
    "plt.savefig('sensitivity_analysi-dr.png', dpi = 300 , transparent = True)\n",
    "\n"
   ]
  },
  {
   "cell_type": "code",
   "execution_count": 9,
   "metadata": {},
   "outputs": [
    {
     "data": {
      "text/html": [
       "<div>\n",
       "<style scoped>\n",
       "    .dataframe tbody tr th:only-of-type {\n",
       "        vertical-align: middle;\n",
       "    }\n",
       "\n",
       "    .dataframe tbody tr th {\n",
       "        vertical-align: top;\n",
       "    }\n",
       "\n",
       "    .dataframe thead th {\n",
       "        text-align: right;\n",
       "    }\n",
       "</style>\n",
       "<table border=\"1\" class=\"dataframe\">\n",
       "  <thead>\n",
       "    <tr style=\"text-align: right;\">\n",
       "      <th></th>\n",
       "      <th>Discount Rate</th>\n",
       "      <th>Charge</th>\n",
       "      <th>Elasticity</th>\n",
       "      <th>B_timesaving</th>\n",
       "      <th>B_reliability</th>\n",
       "      <th>B_pollution</th>\n",
       "      <th>B_accident</th>\n",
       "      <th>C_operational</th>\n",
       "      <th>C_investment</th>\n",
       "      <th>C_subsidy</th>\n",
       "      <th>Benefit-Cost Ratio</th>\n",
       "      <th>Benefit-Cost Ratio - Dummy</th>\n",
       "    </tr>\n",
       "  </thead>\n",
       "  <tbody>\n",
       "    <tr>\n",
       "      <th>0</th>\n",
       "      <td>0.02</td>\n",
       "      <td>14</td>\n",
       "      <td>0.5</td>\n",
       "      <td>304.830074</td>\n",
       "      <td>101.610025</td>\n",
       "      <td>22.846839</td>\n",
       "      <td>164.680645</td>\n",
       "      <td>192.847528</td>\n",
       "      <td>427.416</td>\n",
       "      <td>95</td>\n",
       "      <td>2.005101</td>\n",
       "      <td>1.0</td>\n",
       "    </tr>\n",
       "    <tr>\n",
       "      <th>1</th>\n",
       "      <td>0.03</td>\n",
       "      <td>14</td>\n",
       "      <td>0.5</td>\n",
       "      <td>304.830074</td>\n",
       "      <td>101.610025</td>\n",
       "      <td>22.846839</td>\n",
       "      <td>164.680645</td>\n",
       "      <td>192.847528</td>\n",
       "      <td>427.416</td>\n",
       "      <td>95</td>\n",
       "      <td>1.977937</td>\n",
       "      <td>1.0</td>\n",
       "    </tr>\n",
       "    <tr>\n",
       "      <th>2</th>\n",
       "      <td>0.04</td>\n",
       "      <td>14</td>\n",
       "      <td>0.5</td>\n",
       "      <td>304.830074</td>\n",
       "      <td>101.610025</td>\n",
       "      <td>22.846839</td>\n",
       "      <td>164.680645</td>\n",
       "      <td>192.847528</td>\n",
       "      <td>427.416</td>\n",
       "      <td>95</td>\n",
       "      <td>1.952000</td>\n",
       "      <td>1.0</td>\n",
       "    </tr>\n",
       "    <tr>\n",
       "      <th>3</th>\n",
       "      <td>0.05</td>\n",
       "      <td>14</td>\n",
       "      <td>0.5</td>\n",
       "      <td>304.830074</td>\n",
       "      <td>101.610025</td>\n",
       "      <td>22.846839</td>\n",
       "      <td>164.680645</td>\n",
       "      <td>192.847528</td>\n",
       "      <td>427.416</td>\n",
       "      <td>95</td>\n",
       "      <td>1.927211</td>\n",
       "      <td>1.0</td>\n",
       "    </tr>\n",
       "    <tr>\n",
       "      <th>4</th>\n",
       "      <td>0.06</td>\n",
       "      <td>14</td>\n",
       "      <td>0.5</td>\n",
       "      <td>304.830074</td>\n",
       "      <td>101.610025</td>\n",
       "      <td>22.846839</td>\n",
       "      <td>164.680645</td>\n",
       "      <td>192.847528</td>\n",
       "      <td>427.416</td>\n",
       "      <td>95</td>\n",
       "      <td>1.903493</td>\n",
       "      <td>1.0</td>\n",
       "    </tr>\n",
       "    <tr>\n",
       "      <th>5</th>\n",
       "      <td>0.07</td>\n",
       "      <td>14</td>\n",
       "      <td>0.5</td>\n",
       "      <td>304.830074</td>\n",
       "      <td>101.610025</td>\n",
       "      <td>22.846839</td>\n",
       "      <td>164.680645</td>\n",
       "      <td>192.847528</td>\n",
       "      <td>427.416</td>\n",
       "      <td>95</td>\n",
       "      <td>1.880779</td>\n",
       "      <td>1.0</td>\n",
       "    </tr>\n",
       "    <tr>\n",
       "      <th>6</th>\n",
       "      <td>0.08</td>\n",
       "      <td>14</td>\n",
       "      <td>0.5</td>\n",
       "      <td>304.830074</td>\n",
       "      <td>101.610025</td>\n",
       "      <td>22.846839</td>\n",
       "      <td>164.680645</td>\n",
       "      <td>192.847528</td>\n",
       "      <td>427.416</td>\n",
       "      <td>95</td>\n",
       "      <td>1.859007</td>\n",
       "      <td>1.0</td>\n",
       "    </tr>\n",
       "  </tbody>\n",
       "</table>\n",
       "</div>"
      ],
      "text/plain": [
       "   Discount Rate Charge  Elasticity  B_timesaving  B_reliability  B_pollution  \\\n",
       "0           0.02     14         0.5    304.830074     101.610025    22.846839   \n",
       "1           0.03     14         0.5    304.830074     101.610025    22.846839   \n",
       "2           0.04     14         0.5    304.830074     101.610025    22.846839   \n",
       "3           0.05     14         0.5    304.830074     101.610025    22.846839   \n",
       "4           0.06     14         0.5    304.830074     101.610025    22.846839   \n",
       "5           0.07     14         0.5    304.830074     101.610025    22.846839   \n",
       "6           0.08     14         0.5    304.830074     101.610025    22.846839   \n",
       "\n",
       "   B_accident  C_operational  C_investment C_subsidy  Benefit-Cost Ratio  \\\n",
       "0  164.680645     192.847528       427.416        95            2.005101   \n",
       "1  164.680645     192.847528       427.416        95            1.977937   \n",
       "2  164.680645     192.847528       427.416        95            1.952000   \n",
       "3  164.680645     192.847528       427.416        95            1.927211   \n",
       "4  164.680645     192.847528       427.416        95            1.903493   \n",
       "5  164.680645     192.847528       427.416        95            1.880779   \n",
       "6  164.680645     192.847528       427.416        95            1.859007   \n",
       "\n",
       "   Benefit-Cost Ratio - Dummy  \n",
       "0                         1.0  \n",
       "1                         1.0  \n",
       "2                         1.0  \n",
       "3                         1.0  \n",
       "4                         1.0  \n",
       "5                         1.0  \n",
       "6                         1.0  "
      ]
     },
     "execution_count": 9,
     "metadata": {},
     "output_type": "execute_result"
    }
   ],
   "source": [
    "df_dr"
   ]
  },
  {
   "cell_type": "markdown",
   "metadata": {},
   "source": [
    "#### Sensitivity Analysis - Elasticity\n",
    "Holding all other variable constant with the baseline figure, determine the cost-benefit ratio with a range of elasticity."
   ]
  },
  {
   "cell_type": "code",
   "execution_count": 10,
   "metadata": {},
   "outputs": [
    {
     "data": {
      "image/png": "[encoded data removed]",
      "text/plain": [
       "<Figure size 720x360 with 1 Axes>"
      ]
     },
     "metadata": {
      "needs_background": "light"
     },
     "output_type": "display_data"
    }
   ],
   "source": [
    "df_el = pd.DataFrame(columns = col)\n",
    "plt.rcParams[\"font.size\"] = 10\n",
    "for x in np.arange(0.15,0.7,0.05):\n",
    "    data = run_cba(elas = x)\n",
    "    df_el = df_el.append(data, ignore_index = True)\n",
    "\n",
    "fig, ax = plt.subplots(figsize = (10,5))\n",
    "fig.patch.set_alpha(0)\n",
    "\n",
    "x = ['0.15','0.2','0.25','0.3','0.35','0.4','0.45','0.5','0.55','0.6','0.65']\n",
    "c = ['#f05682','#f05682','#f05682',\"#b8ca7d\",\"#b8ca7d\",\"#b8ca7d\",\"#b8ca7d\",\"#b8ca7d\",\"#b8ca7d\",\"#b8ca7d\",\"#b8ca7d\"]\n",
    "ax.bar(x,df_el['Benefit-Cost Ratio'],width = 0.5, color = c)\n",
    "\n",
    "\n",
    "#ax.set_xlim(0.015,0.08)\n",
    "ax.set_ylim(0.5,3)\n",
    "ax.set_title(\"Sensitivity Analysis - Price Elasticity of Road Use Demand\")\n",
    "ax.set_ylabel(\"Benefit-Cost Ratio\")\n",
    "ax.set_xlabel(\"Price Elasticity\")\n",
    "ax.xaxis.grid(False)\n",
    "ax.text(7,2, \"Baseline \\nValue\", fontsize = 8, horizontalalignment = 'center', color = \"#b8ca7d\")\n",
    "\n",
    "plt.savefig('sensitivity_analysi-el.png',dpi = 400 , transparent = True)"
   ]
  },
  {
   "cell_type": "code",
   "execution_count": null,
   "metadata": {},
   "outputs": [],
   "source": []
  }
 ],
 "metadata": {
  "interpreter": {
   "hash": "0b1c91c530eda5f462e901147e46a9a324c9e2435eb658c155af04e07a2ce394"
  },
  "kernelspec": {
   "display_name": "Python 3.8.3 ('base')",
   "language": "python",
   "name": "python3"
  },
  "language_info": {
   "codemirror_mode": {
    "name": "ipython",
    "version": 3
   },
   "file_extension": ".py",
   "mimetype": "text/x-python",
   "name": "python",
   "nbconvert_exporter": "python",
   "pygments_lexer": "ipython3",
   "version": "3.8.3"
  },
  "orig_nbformat": 4
 },
 "nbformat": 4,
 "nbformat_minor": 2
}

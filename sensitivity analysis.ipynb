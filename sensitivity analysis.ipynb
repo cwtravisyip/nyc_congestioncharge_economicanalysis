{
 "cells": [
  {
   "cell_type": "code",
   "execution_count": 1,
   "metadata": {},
   "outputs": [],
   "source": [
    "import pandas as pd \n",
    "import numpy as np\n",
    "import seaborn as sns \n",
    "import matplotlib.pyplot as plt "
   ]
  },
  {
   "cell_type": "markdown",
   "metadata": {},
   "source": [
    "Update the B_pollution and C_subsidy"
   ]
  },
  {
   "cell_type": "markdown",
   "metadata": {},
   "source": [
    "$\\quad \\epsilon_{t,p} \\times \\frac{Congestion\\, Charge}{Cost\\, of\\, Driving} $\n",
    "\n",
    "$= 0.5 \\times \\frac{14}{17.8\\times 1.55} $\n",
    "\n",
    "$= 0.2537$\n",
    "\n"
   ]
  },
  {
   "cell_type": "markdown",
   "metadata": {},
   "source": [
    "$\\quad \\epsilon_{ts,tvol} \\times \\Delta \\%traffic \\times time\\, cost $\n",
    "\n",
    "$= 0.1471 \\times 0.2537 \\times 817\\textrm{million} $\n",
    "\n",
    "$= 304 \\textrm{million per year} $\n",
    "\n",
    "\n",
    "$time\\,cost =1434000\\times 260 \\times \\frac{40}{60} \\times 32.86=\\textrm{8 billion}$\n",
    "\n",
    "\n",
    "\n",
    "$\\quad \\frac{1}{3} \\times 304 \\textrm{million per year} $\n",
    "\n",
    "$= 102 \\textrm{million per year} $"
   ]
  },
  {
   "cell_type": "markdown",
   "metadata": {},
   "source": [
    "### CO_2\n",
    "\n",
    "$\\quad Emission\\,per\\,mile^{[1]} \\times Reduction\\, in\\,Milelage\\times Cost^{[2]}$\n",
    "\n",
    "$ = 0.411 \\times \\textrm{102 million}\\times 0.033 $\n",
    "\n",
    "$= \\textrm{23 million per year}$\n",
    "\n",
    "\n",
    "### NO_x\n",
    "$\\quad Emission\\,per\\,mile^{[3]} \\times Reduction\\, in\\,Milelage\\times Cost^{}[2] $\n",
    "\n",
    "$=0.00007 \\times   \\textrm{102 million}\\times 0.081 $\n",
    "\n",
    "$= \\textrm{0.01 million per year} $\n",
    "\n",
    "\n",
    "$ Reduction\\, in\\, Mileage = 0.2537\\times1434000\\times17.8\\times 260=\\textrm{168 million}$ "
   ]
  },
  {
   "cell_type": "markdown",
   "metadata": {},
   "source": [
    "### Accidents\n",
    "$\\quad\\epsilon_{ta,tvol} \\times \\Delta \\%traffic \\times cost $\n",
    "\n",
    "$= 0.1513 \\times 0.2537 \\times \\textrm{4290 million}$\n",
    "\n",
    "$= \\textrm{164 million per year}$"
   ]
  },
  {
   "cell_type": "markdown",
   "metadata": {},
   "source": [
    "### Operational cost\n",
    "\n",
    "$\\quad \\textrm{38.9 million}^{[1]} \\times 1.24^{[2]} \\times 3.998^{[3]}$\n",
    "\n",
    "$=\\textrm{193 million per year}$\n",
    "\n",
    "\n",
    "### Investment COst\n",
    "$\\quad  \\textrm{200 million}^{[1]} \\times1.32^{[2]}\\times 1.619^{[3]}$\n",
    "\n",
    "$=\\textrm{427 million}$"
   ]
  },
  {
   "cell_type": "markdown",
   "metadata": {},
   "source": [
    "$\\quad \\frac{263,635}{753,406}\\times 100\\%$\n",
    "\n",
    "$=35.125\\%$"
   ]
  },
  {
   "cell_type": "markdown",
   "metadata": {},
   "source": [
    "$\\quad \\textrm{48.9 million}^{[1]}\\times \\frac{50\\%}{35.125\\%}$\n",
    "\n",
    "$=\\textrm{95 million}$"
   ]
  },
  {
   "cell_type": "code",
   "execution_count": 4,
   "metadata": {},
   "outputs": [],
   "source": [
    "def run_cba(dis_rate = 0.05, charge = 14, elas = 0.5,avg_dis=17.8,cost_drive = 1.55, time_cost =32.86):\n",
    "    \n",
    "    # determine the percentage change in traffic flow with respect to price\n",
    "    delta_traffic = elas *charge/(avg_dis*cost_drive) #default set as 0.5*14/(17.8 * 1.55) =0.2537\n",
    "    delta_mil = delta_traffic * 717000 * 17.8 *260 *2\n",
    "\n",
    "    # determine the common ratio for perpetual calculation (discount rate)\n",
    "    cm = 1/(1+dis_rate)\n",
    "    \n",
    "    # determine the annual cost and benefit in million\n",
    "    B_timesaving  = (0.1471 * delta_traffic) * (717000* 260*2) *(4/6)*time_cost  /1000000\n",
    "    B_reliability = B_timesaving /3\n",
    "    #CO2\n",
    "    co2 =  411* delta_mil * (0.033/1000) / 1000000\n",
    "    #NOx\n",
    "    nox =   0.00007 *delta_mil * (81/1000) / 1000000\n",
    "    B_pollution   = (co2 + nox) #/3\n",
    "\n",
    "    # accident\n",
    "    B_accident    = delta_traffic * 0.1513 * 4290\n",
    "\n",
    "    # cost\n",
    "    C_operational = 38.9*1.24*3.998 \n",
    "    C_subsidy     = 95\n",
    "\n",
    "    # upfront investment\n",
    "    C_investment  = 200*1.32*1.619 \n",
    "\n",
    "    # aggregated discounted cash flow\n",
    "    #B_timesaving = B_timesaving / (1-cm)\n",
    "    #B_reliability = B_reliability / (1-cm)\n",
    "    #B_pollution = B_pollution / (1-cm)\n",
    "    #B_accident = B_accident / (1-cm)\n",
    "    #C_operational = C_operational/ (1-cm)\n",
    "    #C_subsidy = C_subsidy / (1/cm)\n",
    "\n",
    "    # aggregate npv of benefit and cost\n",
    "    agg_ben = (B_timesaving + B_reliability + B_pollution + B_accident) /  (1-cm)\n",
    "\n",
    "    agg_cos = (C_operational + C_subsidy) / (1-cm) +C_investment\n",
    "\n",
    "    BRC = agg_ben / agg_cos\n",
    "\n",
    "    BRC_dummy = BRC >= 1\n",
    "\n",
    "    dict = {    'Discount Rate':dis_rate,\n",
    "                'Charge':charge,\n",
    "                'Elasticity':elas,\n",
    "                'B_timesaving':B_timesaving,\n",
    "                'B_reliability':B_reliability,\n",
    "                'B_pollution':B_pollution,\n",
    "                'B_accident':B_accident,\n",
    "                'C_operational':C_operational,\n",
    "                'C_investment':C_investment,\n",
    "                'C_subsidy': C_subsidy,\n",
    "                'Benefit-Cost Ratio':BRC,\n",
    "                'Benefit-Cost Ratio - Dummy':BRC_dummy}\n",
    "    #list =  [[dis_rate,charge,elas,B_timesaving,B_reliability,B_pollution,B_accident,C_operational,C_investment,C_subsidy, BRC]]\n",
    "    \n",
    "    return dict\n",
    "                "
   ]
  },
  {
   "cell_type": "code",
   "execution_count": 5,
   "metadata": {},
   "outputs": [
    {
     "data": {
      "text/html": [
       "<div>\n",
       "<style scoped>\n",
       "    .dataframe tbody tr th:only-of-type {\n",
       "        vertical-align: middle;\n",
       "    }\n",
       "\n",
       "    .dataframe tbody tr th {\n",
       "        vertical-align: top;\n",
       "    }\n",
       "\n",
       "    .dataframe thead th {\n",
       "        text-align: right;\n",
       "    }\n",
       "</style>\n",
       "<table border=\"1\" class=\"dataframe\">\n",
       "  <thead>\n",
       "    <tr style=\"text-align: right;\">\n",
       "      <th></th>\n",
       "      <th>Discount Rate</th>\n",
       "      <th>Charge</th>\n",
       "      <th>Elasticity</th>\n",
       "      <th>B_timesaving</th>\n",
       "      <th>B_reliability</th>\n",
       "      <th>B_pollution</th>\n",
       "      <th>B_accident</th>\n",
       "      <th>C_operational</th>\n",
       "      <th>C_investment</th>\n",
       "      <th>C_subsidy</th>\n",
       "      <th>Benefit-Cost Ratio</th>\n",
       "      <th>Benefit-Cost Ratio - Dummy</th>\n",
       "    </tr>\n",
       "  </thead>\n",
       "  <tbody>\n",
       "    <tr>\n",
       "      <th>0</th>\n",
       "      <td>0.02</td>\n",
       "      <td>14</td>\n",
       "      <td>0.25</td>\n",
       "      <td>152.415037</td>\n",
       "      <td>50.805012</td>\n",
       "      <td>11.423420</td>\n",
       "      <td>82.340323</td>\n",
       "      <td>192.847528</td>\n",
       "      <td>427.416</td>\n",
       "      <td>95</td>\n",
       "      <td>1.002551</td>\n",
       "      <td>1.0</td>\n",
       "    </tr>\n",
       "    <tr>\n",
       "      <th>1</th>\n",
       "      <td>0.02</td>\n",
       "      <td>14</td>\n",
       "      <td>0.26</td>\n",
       "      <td>158.511639</td>\n",
       "      <td>52.837213</td>\n",
       "      <td>11.880356</td>\n",
       "      <td>85.633935</td>\n",
       "      <td>192.847528</td>\n",
       "      <td>427.416</td>\n",
       "      <td>95</td>\n",
       "      <td>1.042653</td>\n",
       "      <td>1.0</td>\n",
       "    </tr>\n",
       "    <tr>\n",
       "      <th>2</th>\n",
       "      <td>0.02</td>\n",
       "      <td>14</td>\n",
       "      <td>0.27</td>\n",
       "      <td>164.608240</td>\n",
       "      <td>54.869413</td>\n",
       "      <td>12.337293</td>\n",
       "      <td>88.927548</td>\n",
       "      <td>192.847528</td>\n",
       "      <td>427.416</td>\n",
       "      <td>95</td>\n",
       "      <td>1.082755</td>\n",
       "      <td>1.0</td>\n",
       "    </tr>\n",
       "    <tr>\n",
       "      <th>3</th>\n",
       "      <td>0.02</td>\n",
       "      <td>14</td>\n",
       "      <td>0.28</td>\n",
       "      <td>170.704841</td>\n",
       "      <td>56.901614</td>\n",
       "      <td>12.794230</td>\n",
       "      <td>92.221161</td>\n",
       "      <td>192.847528</td>\n",
       "      <td>427.416</td>\n",
       "      <td>95</td>\n",
       "      <td>1.122857</td>\n",
       "      <td>1.0</td>\n",
       "    </tr>\n",
       "    <tr>\n",
       "      <th>4</th>\n",
       "      <td>0.02</td>\n",
       "      <td>14</td>\n",
       "      <td>0.29</td>\n",
       "      <td>176.801443</td>\n",
       "      <td>58.933814</td>\n",
       "      <td>13.251167</td>\n",
       "      <td>95.514774</td>\n",
       "      <td>192.847528</td>\n",
       "      <td>427.416</td>\n",
       "      <td>95</td>\n",
       "      <td>1.162959</td>\n",
       "      <td>1.0</td>\n",
       "    </tr>\n",
       "  </tbody>\n",
       "</table>\n",
       "</div>"
      ],
      "text/plain": [
       "   Discount Rate Charge  Elasticity  B_timesaving  B_reliability  B_pollution  \\\n",
       "0           0.02     14        0.25    152.415037      50.805012    11.423420   \n",
       "1           0.02     14        0.26    158.511639      52.837213    11.880356   \n",
       "2           0.02     14        0.27    164.608240      54.869413    12.337293   \n",
       "3           0.02     14        0.28    170.704841      56.901614    12.794230   \n",
       "4           0.02     14        0.29    176.801443      58.933814    13.251167   \n",
       "\n",
       "   B_accident  C_operational  C_investment C_subsidy  Benefit-Cost Ratio  \\\n",
       "0   82.340323     192.847528       427.416        95            1.002551   \n",
       "1   85.633935     192.847528       427.416        95            1.042653   \n",
       "2   88.927548     192.847528       427.416        95            1.082755   \n",
       "3   92.221161     192.847528       427.416        95            1.122857   \n",
       "4   95.514774     192.847528       427.416        95            1.162959   \n",
       "\n",
       "   Benefit-Cost Ratio - Dummy  \n",
       "0                         1.0  \n",
       "1                         1.0  \n",
       "2                         1.0  \n",
       "3                         1.0  \n",
       "4                         1.0  "
      ]
     },
     "execution_count": 5,
     "metadata": {},
     "output_type": "execute_result"
    }
   ],
   "source": [
    "dis_rate    = [x for x in np.arange(0.02,0.08,0.002)]\n",
    "charges     = [x for x in np.arange(9,23,0.5)]\n",
    "elases      = [x for x in np.arange(0.25,0.51,0.01)]\n",
    "\n",
    "col =[  'Discount Rate', 'Charge','Elasticity','B_timesaving','B_reliability','B_pollution','B_accident',\n",
    "        'C_operational', 'C_investment','C_subsidy','Benefit-Cost Ratio']\n",
    "df = pd.DataFrame(columns = col)\n",
    "for dis in dis_rate:\n",
    "    #for charge in charges:\n",
    "    for elas in elases:\n",
    "            data = run_cba(dis_rate = dis, charge = 14, elas = elas)\n",
    "            df = df.append(data, ignore_index = True)\n",
    "\n",
    "df.head()"
   ]
  },
  {
   "cell_type": "code",
   "execution_count": 6,
   "metadata": {},
   "outputs": [],
   "source": [
    "#Elasticity\n",
    "y = np.linspace(0.25,0.45,100)\n",
    "\n",
    "e = y * 14 / (17.8*1.55) \n",
    "b1= (717000*365)  *(4/6)*32.86 /1000000 * 4/3\n",
    "b2=((0.5882 * 183590001 / 1000000) + (0.3571 *  50315274.24 / 1000000))/3\n",
    "b3= (0.1513 * 4290)\n",
    "b = (b1+b2+b3)*e\n",
    "\n",
    "c = (38.9*1.24*3.998*3.612) + 95\n",
    "cin = 200*1.32*1.619*4.169\n",
    "\n",
    "x = -(1/ (((b- c)/cin)-1))-1\n"
   ]
  },
  {
   "cell_type": "markdown",
   "metadata": {},
   "source": [
    "Vairable of interest:\n",
    "* discount rate\n",
    "* Benefit-cost Ratio\n",
    "* Charge\n",
    "* Elasticity"
   ]
  },
  {
   "cell_type": "code",
   "execution_count": 7,
   "metadata": {},
   "outputs": [],
   "source": [
    "# setting the style\n",
    "plt.style.use('seaborn-whitegrid')\n",
    "\n",
    "# setting the annotation default font \n",
    "plt.rcParams[\"font.family\"] = \"roboto\"\n",
    "plt.rcParams[\"font.size\"] = 10\n",
    "\n",
    "plt.rcParams[\"figure.autolayout\"] = False\n",
    "\n",
    "\n",
    "plt.rcParams['axes.spines.right'] = False\n",
    "plt.rcParams['axes.spines.top'] = False\n",
    "plt.rcParams['axes.spines.left'] = False\n",
    "plt.rcParams['axes.spines.bottom'] = False"
   ]
  },
  {
   "cell_type": "markdown",
   "metadata": {},
   "source": [
    "## Sensitivity Analysis "
   ]
  },
  {
   "cell_type": "code",
   "execution_count": 8,
   "metadata": {},
   "outputs": [
    {
     "name": "stderr",
     "output_type": "stream",
     "text": [
      "/Users/Tra_FIT/opt/anaconda3/lib/python3.8/site-packages/seaborn/_decorators.py:36: FutureWarning: Pass the following variables as keyword args: x, y. From version 0.12, the only valid positional argument will be `data`, and passing other arguments without an explicit keyword will result in an error or misinterpretation.\n",
      "  warnings.warn(\n"
     ]
    },
    {
     "data": {
      "text/plain": [
       "(0.2, 0.5)"
      ]
     },
     "execution_count": 8,
     "metadata": {},
     "output_type": "execute_result"
    },
    {
     "data": {
      "image/png": "[encoded data removed]",
      "text/plain": [
       "<Figure size 360x360 with 1 Axes>"
      ]
     },
     "metadata": {
      "needs_background": "light"
     },
     "output_type": "display_data"
    }
   ],
   "source": [
    "\n",
    "fig, ax = plt.subplots(figsize = (5,5))\n",
    "fig.patch.set_alpha(0)\n",
    "\n",
    "p1 = sns.scatterplot(x = \"Discount Rate\",y='Elasticity',hue = 'Benefit-Cost Ratio - Dummy', data = df, linewidth = 0, ax = ax, size = 1)\n",
    "p2 = sns.lineplot(x,y,color = '#cf1248')\n",
    "\n",
    "ax.set_xlim(0.015,0.08)\n",
    "ax.set_ylim(0.20,0.5)"
   ]
  },
  {
   "cell_type": "code",
   "execution_count": 9,
   "metadata": {},
   "outputs": [
    {
     "name": "stderr",
     "output_type": "stream",
     "text": [
      "/Users/Tra_FIT/opt/anaconda3/lib/python3.8/site-packages/seaborn/_decorators.py:36: FutureWarning: Pass the following variables as keyword args: x, y. From version 0.12, the only valid positional argument will be `data`, and passing other arguments without an explicit keyword will result in an error or misinterpretation.\n",
      "  warnings.warn(\n"
     ]
    },
    {
     "data": {
      "image/png": "[encoded data removed]",
      "text/plain": [
       "<Figure size 360x360 with 1 Axes>"
      ]
     },
     "metadata": {
      "needs_background": "light"
     },
     "output_type": "display_data"
    }
   ],
   "source": [
    "# setting the style\n",
    "plt.style.use('seaborn-whitegrid')\n",
    "\n",
    "# setting the annotation default font \n",
    "plt.rcParams[\"font.family\"] = \"roboto\"\n",
    "\n",
    "plt.rcParams[\"figure.autolayout\"] = False\n",
    "\n",
    "\n",
    "plt.rcParams['axes.spines.right'] = False\n",
    "plt.rcParams['axes.spines.top'] = False\n",
    "plt.rcParams['axes.spines.left'] = False\n",
    "plt.rcParams['axes.spines.bottom'] = False\n",
    "fig, ax = plt.subplots(figsize = (5,5))\n",
    "fig.patch.set_alpha(0)\n",
    "\n",
    "#p1 = sns.scatterplot(x = \"Discount Rate\",y='Elasticity',hue = 'Benefit-Cost Ratio', data = df, linewidth = 0, ax = ax, size = 1,)\n",
    "p2 = sns.lineplot(x,y,color = '#cf1248',linewidth = 2)\n",
    "ax.scatter(0.05,0.5, color =\"#b8ca7d\")\n",
    "\n",
    "ax.set_xlim(0.015,0.08)\n",
    "ax.set_ylim(0.20,0.54)\n",
    "ax.set_title(\"Line of Zero NPV\")\n",
    "ax.set_ylabel(\"Road Traffic Demand Elasticity\")\n",
    "ax.set_xlabel(\"Discount Rate\")\n",
    "\n",
    "plt.savefig('line_of_zeroNPV.png',dpi = 300 , transparent = True)\n"
   ]
  },
  {
   "cell_type": "code",
   "execution_count": 10,
   "metadata": {},
   "outputs": [
    {
     "data": {
      "image/png": "[encoded data removed]",
      "text/plain": [
       "<Figure size 720x360 with 1 Axes>"
      ]
     },
     "metadata": {
      "needs_background": "light"
     },
     "output_type": "display_data"
    }
   ],
   "source": [
    "df_dr = pd.DataFrame(columns = col)\n",
    "n = 0 \n",
    "for x in np.arange(0.02,0.09,0.01):\n",
    "    data = run_cba(dis_rate = x)\n",
    "    df_dr = df_dr.append(data, ignore_index = True)\n",
    "\n",
    "fig, ax = plt.subplots(figsize = (10,5))\n",
    "fig.patch.set_alpha(0)\n",
    "\n",
    "x = ['2%','3%','4%','5%','6%','7%','8%']\n",
    "ax.bar(x,df_dr['Benefit-Cost Ratio'],width = 0.5, color = \"#b8ca7d\")\n",
    "\n",
    "\n",
    "#ax.set_xlim(0.015,0.08)\n",
    "ax.set_ylim(0.8,2.1)\n",
    "ax.set_title(\"Sensitivity Analysis - Discount Rate\")\n",
    "ax.set_ylabel(\"Benefit-Cost Ratio\")\n",
    "ax.set_xlabel(\"Discount Rate\")\n",
    "ax.xaxis.grid(False)\n",
    "\n",
    "plt.savefig('sensitivity_analysi-dr.png', dpi = 300 , transparent = True)\n",
    "\n"
   ]
  },
  {
   "cell_type": "code",
   "execution_count": 11,
   "metadata": {},
   "outputs": [
    {
     "data": {
      "text/html": [
       "<div>\n",
       "<style scoped>\n",
       "    .dataframe tbody tr th:only-of-type {\n",
       "        vertical-align: middle;\n",
       "    }\n",
       "\n",
       "    .dataframe tbody tr th {\n",
       "        vertical-align: top;\n",
       "    }\n",
       "\n",
       "    .dataframe thead th {\n",
       "        text-align: right;\n",
       "    }\n",
       "</style>\n",
       "<table border=\"1\" class=\"dataframe\">\n",
       "  <thead>\n",
       "    <tr style=\"text-align: right;\">\n",
       "      <th></th>\n",
       "      <th>Discount Rate</th>\n",
       "      <th>Charge</th>\n",
       "      <th>Elasticity</th>\n",
       "      <th>B_timesaving</th>\n",
       "      <th>B_reliability</th>\n",
       "      <th>B_pollution</th>\n",
       "      <th>B_accident</th>\n",
       "      <th>C_operational</th>\n",
       "      <th>C_investment</th>\n",
       "      <th>C_subsidy</th>\n",
       "      <th>Benefit-Cost Ratio</th>\n",
       "      <th>Benefit-Cost Ratio - Dummy</th>\n",
       "    </tr>\n",
       "  </thead>\n",
       "  <tbody>\n",
       "    <tr>\n",
       "      <th>0</th>\n",
       "      <td>0.02</td>\n",
       "      <td>14</td>\n",
       "      <td>0.5</td>\n",
       "      <td>304.830074</td>\n",
       "      <td>101.610025</td>\n",
       "      <td>22.846839</td>\n",
       "      <td>164.680645</td>\n",
       "      <td>192.847528</td>\n",
       "      <td>427.416</td>\n",
       "      <td>95</td>\n",
       "      <td>2.005101</td>\n",
       "      <td>1.0</td>\n",
       "    </tr>\n",
       "    <tr>\n",
       "      <th>1</th>\n",
       "      <td>0.03</td>\n",
       "      <td>14</td>\n",
       "      <td>0.5</td>\n",
       "      <td>304.830074</td>\n",
       "      <td>101.610025</td>\n",
       "      <td>22.846839</td>\n",
       "      <td>164.680645</td>\n",
       "      <td>192.847528</td>\n",
       "      <td>427.416</td>\n",
       "      <td>95</td>\n",
       "      <td>1.977937</td>\n",
       "      <td>1.0</td>\n",
       "    </tr>\n",
       "    <tr>\n",
       "      <th>2</th>\n",
       "      <td>0.04</td>\n",
       "      <td>14</td>\n",
       "      <td>0.5</td>\n",
       "      <td>304.830074</td>\n",
       "      <td>101.610025</td>\n",
       "      <td>22.846839</td>\n",
       "      <td>164.680645</td>\n",
       "      <td>192.847528</td>\n",
       "      <td>427.416</td>\n",
       "      <td>95</td>\n",
       "      <td>1.952000</td>\n",
       "      <td>1.0</td>\n",
       "    </tr>\n",
       "    <tr>\n",
       "      <th>3</th>\n",
       "      <td>0.05</td>\n",
       "      <td>14</td>\n",
       "      <td>0.5</td>\n",
       "      <td>304.830074</td>\n",
       "      <td>101.610025</td>\n",
       "      <td>22.846839</td>\n",
       "      <td>164.680645</td>\n",
       "      <td>192.847528</td>\n",
       "      <td>427.416</td>\n",
       "      <td>95</td>\n",
       "      <td>1.927211</td>\n",
       "      <td>1.0</td>\n",
       "    </tr>\n",
       "    <tr>\n",
       "      <th>4</th>\n",
       "      <td>0.06</td>\n",
       "      <td>14</td>\n",
       "      <td>0.5</td>\n",
       "      <td>304.830074</td>\n",
       "      <td>101.610025</td>\n",
       "      <td>22.846839</td>\n",
       "      <td>164.680645</td>\n",
       "      <td>192.847528</td>\n",
       "      <td>427.416</td>\n",
       "      <td>95</td>\n",
       "      <td>1.903493</td>\n",
       "      <td>1.0</td>\n",
       "    </tr>\n",
       "    <tr>\n",
       "      <th>5</th>\n",
       "      <td>0.07</td>\n",
       "      <td>14</td>\n",
       "      <td>0.5</td>\n",
       "      <td>304.830074</td>\n",
       "      <td>101.610025</td>\n",
       "      <td>22.846839</td>\n",
       "      <td>164.680645</td>\n",
       "      <td>192.847528</td>\n",
       "      <td>427.416</td>\n",
       "      <td>95</td>\n",
       "      <td>1.880779</td>\n",
       "      <td>1.0</td>\n",
       "    </tr>\n",
       "    <tr>\n",
       "      <th>6</th>\n",
       "      <td>0.08</td>\n",
       "      <td>14</td>\n",
       "      <td>0.5</td>\n",
       "      <td>304.830074</td>\n",
       "      <td>101.610025</td>\n",
       "      <td>22.846839</td>\n",
       "      <td>164.680645</td>\n",
       "      <td>192.847528</td>\n",
       "      <td>427.416</td>\n",
       "      <td>95</td>\n",
       "      <td>1.859007</td>\n",
       "      <td>1.0</td>\n",
       "    </tr>\n",
       "  </tbody>\n",
       "</table>\n",
       "</div>"
      ],
      "text/plain": [
       "   Discount Rate Charge  Elasticity  B_timesaving  B_reliability  B_pollution  \\\n",
       "0           0.02     14         0.5    304.830074     101.610025    22.846839   \n",
       "1           0.03     14         0.5    304.830074     101.610025    22.846839   \n",
       "2           0.04     14         0.5    304.830074     101.610025    22.846839   \n",
       "3           0.05     14         0.5    304.830074     101.610025    22.846839   \n",
       "4           0.06     14         0.5    304.830074     101.610025    22.846839   \n",
       "5           0.07     14         0.5    304.830074     101.610025    22.846839   \n",
       "6           0.08     14         0.5    304.830074     101.610025    22.846839   \n",
       "\n",
       "   B_accident  C_operational  C_investment C_subsidy  Benefit-Cost Ratio  \\\n",
       "0  164.680645     192.847528       427.416        95            2.005101   \n",
       "1  164.680645     192.847528       427.416        95            1.977937   \n",
       "2  164.680645     192.847528       427.416        95            1.952000   \n",
       "3  164.680645     192.847528       427.416        95            1.927211   \n",
       "4  164.680645     192.847528       427.416        95            1.903493   \n",
       "5  164.680645     192.847528       427.416        95            1.880779   \n",
       "6  164.680645     192.847528       427.416        95            1.859007   \n",
       "\n",
       "   Benefit-Cost Ratio - Dummy  \n",
       "0                         1.0  \n",
       "1                         1.0  \n",
       "2                         1.0  \n",
       "3                         1.0  \n",
       "4                         1.0  \n",
       "5                         1.0  \n",
       "6                         1.0  "
      ]
     },
     "execution_count": 11,
     "metadata": {},
     "output_type": "execute_result"
    }
   ],
   "source": [
    "df_dr"
   ]
  },
  {
   "cell_type": "code",
   "execution_count": 12,
   "metadata": {},
   "outputs": [
    {
     "data": {
      "image/png": "[encoded data removed]",
      "text/plain": [
       "<Figure size 720x360 with 1 Axes>"
      ]
     },
     "metadata": {
      "needs_background": "light"
     },
     "output_type": "display_data"
    }
   ],
   "source": [
    "df_el = pd.DataFrame(columns = col)\n",
    "plt.rcParams[\"font.size\"] = 10\n",
    "for x in np.arange(0.15,0.7,0.05):\n",
    "    data = run_cba(elas = x)\n",
    "    df_el = df_el.append(data, ignore_index = True)\n",
    "\n",
    "fig, ax = plt.subplots(figsize = (10,5))\n",
    "fig.patch.set_alpha(0)\n",
    "\n",
    "x = ['0.15','0.2','0.25','0.3','0.35','0.4','0.45','0.5','0.55','0.6','0.65']\n",
    "c = ['#f05682','#f05682','#f05682',\"#b8ca7d\",\"#b8ca7d\",\"#b8ca7d\",\"#b8ca7d\",\"#b8ca7d\",\"#b8ca7d\",\"#b8ca7d\",\"#b8ca7d\"]\n",
    "ax.bar(x,df_el['Benefit-Cost Ratio'],width = 0.5, color = c)\n",
    "\n",
    "\n",
    "#ax.set_xlim(0.015,0.08)\n",
    "ax.set_ylim(0.5,3)\n",
    "ax.set_title(\"Sensitivity Analysis - Price Elasticity of Road Use Demand\")\n",
    "ax.set_ylabel(\"Benefit-Cost Ratio\")\n",
    "ax.set_xlabel(\"Price Elasticity\")\n",
    "ax.xaxis.grid(False)\n",
    "\n",
    "plt.savefig('sensitivity_analysi-el.png',dpi = 400 , transparent = True)"
   ]
  },
  {
   "cell_type": "code",
   "execution_count": null,
   "metadata": {},
   "outputs": [],
   "source": []
  }
 ],
 "metadata": {
  "interpreter": {
   "hash": "0b1c91c530eda5f462e901147e46a9a324c9e2435eb658c155af04e07a2ce394"
  },
  "kernelspec": {
   "display_name": "Python 3.8.3 ('base')",
   "language": "python",
   "name": "python3"
  },
  "language_info": {
   "codemirror_mode": {
    "name": "ipython",
    "version": 3
   },
   "file_extension": ".py",
   "mimetype": "text/x-python",
   "name": "python",
   "nbconvert_exporter": "python",
   "pygments_lexer": "ipython3",
   "version": "3.8.3"
  },
  "orig_nbformat": 4
 },
 "nbformat": 4,
 "nbformat_minor": 2
}
